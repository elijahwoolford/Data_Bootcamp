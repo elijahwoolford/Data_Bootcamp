{
 "cells": [
  {
   "cell_type": "markdown",
   "metadata": {},
   "source": [
    "The problem: We want to increase favorable public relations with the jedi throughout the universe. \n",
    "\n",
    "Potential Solution: We send two envoys to eight unfriendly planets and see which envoy makes attitudes become more favorable on a planet by planet basis. \n",
    "\n",
    "The method: We send both envoys to all eight planets and by a planet by planet basis we see how the envoys increase attitude. If we see one envoy getting more favorable responces than the other on most or all of the planets, then we can conclude that the envoy is effective and we can move forward with that one. "
   ]
  }
 ],
 "metadata": {
  "kernelspec": {
   "display_name": "Python 3",
   "language": "python",
   "name": "python3"
  },
  "language_info": {
   "codemirror_mode": {
    "name": "ipython",
    "version": 3
   },
   "file_extension": ".py",
   "mimetype": "text/x-python",
   "name": "python",
   "nbconvert_exporter": "python",
   "pygments_lexer": "ipython3",
   "version": "3.5.1"
  }
 },
 "nbformat": 4,
 "nbformat_minor": 2
}
