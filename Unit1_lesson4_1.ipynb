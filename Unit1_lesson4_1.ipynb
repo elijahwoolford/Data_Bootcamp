{
 "cells": [
  {
   "cell_type": "markdown",
   "metadata": {},
   "source": [
    "1.Design two groups one as a control which doesn't recieve the supplement and one that does. Making sure that the groups are equal in size we can measure how fast each person in each group falls asleep. Also, we can measure the length of sleep each person takes in. I expect the supplement to help people sleep better.\n",
    "\n",
    "2.I would set up a time period where the gym employees decide to wear the uniforms. The control group would be where we measure the amount of buisness coming in during a month. Then we could do another month with the new uniforms. We would have to avoid holidays and the beginning of the year since those are times the gyms are the least and most busy respectivly. I expect the uniforms not to increase the gym buisness\n",
    "\n",
    "3.Using the old webpage as a control we could could measure how the buisness is doing already and then we could put up the new webpage to see if anything changes. I don't expect by creating a new webpage that the buisness would do better. Some type of buisness promotion would be ideal.\n",
    "\n",
    "4.We could use a previous emails that didn't have a please read and measure the ratio of how many people actually read these emails. Then as the experimental group we could then add the please read to the emails and measure that ratio to see if people read more of the emails. We would have to keep the types of emails sent the same to eliminate the interest biases that can arise. I expect that the please read would increase the amount of read emails. "
   ]
  }
 ],
 "metadata": {
  "kernelspec": {
   "display_name": "Python 3",
   "language": "python",
   "name": "python3"
  },
  "language_info": {
   "codemirror_mode": {
    "name": "ipython",
    "version": 3
   },
   "file_extension": ".py",
   "mimetype": "text/x-python",
   "name": "python",
   "nbconvert_exporter": "python",
   "pygments_lexer": "ipython3",
   "version": "3.5.1"
  }
 },
 "nbformat": 4,
 "nbformat_minor": 2
}
