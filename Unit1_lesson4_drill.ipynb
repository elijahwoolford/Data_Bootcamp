{
 "cells": [
  {
   "cell_type": "markdown",
   "metadata": {},
   "source": [
    "!.The first thing we could do is see which good between the widgets, doodads, and fizzbangs the customers overall are interested in. We could average out the number of page views and purchases each good received. There should be a direct correlation between good interest and number of page views per person, so if more people were to visit that particular page, then the interest should be high. Average purchases along with their standard deviation would be useful to see how these good will actually sell, along with how the sales will vary. A high standard deviation would suggest that there is high variablilty with in the sales which would be something to consider. I believe the good that has the most consistency along with high interest and high purchases would be the way to go.\n",
    "\n",
    "\n",
    "2.We would first have to dive into how the marketing spend has changed with the decline of sales. If there's a correlation between marketing spend and decline of sales, then there should be more money put into trying to market the website. Assuming that there's no correlation, we could still boost market spending to try to further push it on potential clients. We could look at the process in which clients are interested sign up with. We could seperate the steps and see at which point most of the clients chose to stop their sign up process. Then at that step we could change it to be more client friendly. For example, if most of the users stop their sign up at the plan choice, we could try to offer more appealing plans, or if most or a good majority stop at the payment step, perhaps we could lower the price. \n",
    "\n",
    "3.We could add in more categories to further better the rankings. Star level and availabilty could be put in to help the website. Also, maybe adding some filters to appeal to interest of the user would be something to consider. \n",
    "\n",
    "4.To try to measure how likely a user might churn, we could look into frequency of the user logging in. Usually when someone signs up for a new social network there's excitment for the network then it levels off into casual use. We can measure average use during the \"casual use\" period and compare it to a recent period. If they're not similar then we could say that the user has some churn risk. Also, we could apply the same concept to the length of session. We know that during the initial sign up the length of sessions will be longer but we should measure overtime the amount of decrease. If it's significant then we should flag that as churn risk."
   ]
  }
 ],
 "metadata": {
  "kernelspec": {
   "display_name": "Python 3",
   "language": "python",
   "name": "python3"
  },
  "language_info": {
   "codemirror_mode": {
    "name": "ipython",
    "version": 3
   },
   "file_extension": ".py",
   "mimetype": "text/x-python",
   "name": "python",
   "nbconvert_exporter": "python",
   "pygments_lexer": "ipython3",
   "version": "3.5.1"
  }
 },
 "nbformat": 4,
 "nbformat_minor": 2
}
