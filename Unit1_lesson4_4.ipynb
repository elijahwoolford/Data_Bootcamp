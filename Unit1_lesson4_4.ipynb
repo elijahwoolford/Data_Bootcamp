{
 "cells": [
  {
   "cell_type": "markdown",
   "metadata": {},
   "source": [
    "1.The first problem with this experiment is the experimental groups that the slogans are being tested on. The fact that they are trying to test recruting slogans on already captured droids is flawed. Also, the presentation of the slogans can introduce some bias. Palpatine could of presented his slogan better than dark vader's. The same individual should be presenting the slogan to prevent bias from the experimental group and to make sure it is presented similarly.\n",
    "\n",
    "2.I see that the experimental groups have some flaws in them. Although they are both surveying four friendly and four unfriendly, I think that will skew some of the data. The groups should just focus on the unfriendly groups. Also, the planets should be evaluated on a planet by planet basis to measure if any the growth. Since Windu had a better success rate than jar jar on each planet there should be further experimentation to see if simpson's paradox is in effect. \n",
    "\n",
    "3.Calculating the average satisfaction equally isn't the right thing to do for the HR group. Since the IT group is equally distributed across the work sites that value will be accurate but the HR group would be skewed the the satisfaction rates of the three planets they occupy the most. There should be some weight added in for the underrepresented planets. \n",
    "\n",
    "4.This conclusion that people's activity levels increases after the install a fitness tracker app is flawed. People usually install those apps becuase they want to become more active. \n",
    "\n",
    "5.The fact that the tests were stacked together means that most of the students had version A. So those who took version B could've been better students and not necessarily had an easier test. The tests should've been rearraged randomly to get a better sence of which test was harder. "
   ]
  }
 ],
 "metadata": {
  "kernelspec": {
   "display_name": "Python 3",
   "language": "python",
   "name": "python3"
  },
  "language_info": {
   "codemirror_mode": {
    "name": "ipython",
    "version": 3
   },
   "file_extension": ".py",
   "mimetype": "text/x-python",
   "name": "python",
   "nbconvert_exporter": "python",
   "pygments_lexer": "ipython3",
   "version": "3.5.1"
  }
 },
 "nbformat": 4,
 "nbformat_minor": 2
}
