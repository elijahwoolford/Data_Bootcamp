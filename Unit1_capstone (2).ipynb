{
 "cells": [
  {
   "cell_type": "code",
   "execution_count": 3,
   "metadata": {},
   "outputs": [],
   "source": [
    "import pandas as pd\n",
    "import numpy as np\n",
    "import matplotlib.pyplot as plt\n",
    "import seaborn as sns\n",
    "%matplotlib inline"
   ]
  },
  {
   "cell_type": "markdown",
   "metadata": {},
   "source": [
    "# Introduction:\n",
    "\n",
    "Spotify is a music streaming service that has millions of users a day. I want to increase song sales for my current company. Below is the top 100 songs streamed in the year 2017 on spotify. Below I try to find and identify patterns that the top songs have. The average duration of a song is 210000ms and the average tempo is around 115bpm according to the rolling stone. I am looking at three main components of the top 100 songs. Duration, tempo, and danceability. Danceability is a metric that describes how suitable a track is for dancing based on a combination of musical elements including tempo, rhythm stability, beat strength, and overall regularity. A value of 0.0 is least danceable and 1.0 is most danceable. "
   ]
  },
  {
   "cell_type": "code",
   "execution_count": 16,
   "metadata": {},
   "outputs": [
    {
     "data": {
      "text/html": [
       "<div>\n",
       "<style scoped>\n",
       "    .dataframe tbody tr th:only-of-type {\n",
       "        vertical-align: middle;\n",
       "    }\n",
       "\n",
       "    .dataframe tbody tr th {\n",
       "        vertical-align: top;\n",
       "    }\n",
       "\n",
       "    .dataframe thead th {\n",
       "        text-align: right;\n",
       "    }\n",
       "</style>\n",
       "<table border=\"1\" class=\"dataframe\">\n",
       "  <thead>\n",
       "    <tr style=\"text-align: right;\">\n",
       "      <th></th>\n",
       "      <th>id</th>\n",
       "      <th>name</th>\n",
       "      <th>artists</th>\n",
       "      <th>danceability</th>\n",
       "      <th>energy</th>\n",
       "      <th>key</th>\n",
       "      <th>loudness</th>\n",
       "      <th>mode</th>\n",
       "      <th>speechiness</th>\n",
       "      <th>acousticness</th>\n",
       "      <th>instrumentalness</th>\n",
       "      <th>liveness</th>\n",
       "      <th>valence</th>\n",
       "      <th>tempo</th>\n",
       "      <th>duration_ms</th>\n",
       "      <th>time_signature</th>\n",
       "    </tr>\n",
       "  </thead>\n",
       "  <tbody>\n",
       "    <tr>\n",
       "      <th>0</th>\n",
       "      <td>7qiZfU4dY1lWllzX7mPBI</td>\n",
       "      <td>Shape of You</td>\n",
       "      <td>Ed Sheeran</td>\n",
       "      <td>0.825</td>\n",
       "      <td>0.652</td>\n",
       "      <td>1</td>\n",
       "      <td>-3.183</td>\n",
       "      <td>0</td>\n",
       "      <td>0.0802</td>\n",
       "      <td>0.5810</td>\n",
       "      <td>0.000000</td>\n",
       "      <td>0.0931</td>\n",
       "      <td>0.931</td>\n",
       "      <td>95.977</td>\n",
       "      <td>233713</td>\n",
       "      <td>4</td>\n",
       "    </tr>\n",
       "    <tr>\n",
       "      <th>1</th>\n",
       "      <td>5CtI0qwDJkDQGwXD1H1cL</td>\n",
       "      <td>Despacito - Remix</td>\n",
       "      <td>Luis Fonsi</td>\n",
       "      <td>0.694</td>\n",
       "      <td>0.815</td>\n",
       "      <td>2</td>\n",
       "      <td>-4.328</td>\n",
       "      <td>1</td>\n",
       "      <td>0.1200</td>\n",
       "      <td>0.2290</td>\n",
       "      <td>0.000000</td>\n",
       "      <td>0.0924</td>\n",
       "      <td>0.813</td>\n",
       "      <td>88.931</td>\n",
       "      <td>228827</td>\n",
       "      <td>4</td>\n",
       "    </tr>\n",
       "    <tr>\n",
       "      <th>2</th>\n",
       "      <td>4aWmUDTfIPGksMNLV2rQP</td>\n",
       "      <td>Despacito (Featuring Daddy Yankee)</td>\n",
       "      <td>Luis Fonsi</td>\n",
       "      <td>0.660</td>\n",
       "      <td>0.786</td>\n",
       "      <td>2</td>\n",
       "      <td>-4.757</td>\n",
       "      <td>1</td>\n",
       "      <td>0.1700</td>\n",
       "      <td>0.2090</td>\n",
       "      <td>0.000000</td>\n",
       "      <td>0.1120</td>\n",
       "      <td>0.846</td>\n",
       "      <td>177.833</td>\n",
       "      <td>228200</td>\n",
       "      <td>4</td>\n",
       "    </tr>\n",
       "    <tr>\n",
       "      <th>3</th>\n",
       "      <td>6RUKPb4LETWmmr3iAEQkt</td>\n",
       "      <td>Something Just Like This</td>\n",
       "      <td>The Chainsmokers</td>\n",
       "      <td>0.617</td>\n",
       "      <td>0.635</td>\n",
       "      <td>11</td>\n",
       "      <td>-6.769</td>\n",
       "      <td>0</td>\n",
       "      <td>0.0317</td>\n",
       "      <td>0.0498</td>\n",
       "      <td>0.000014</td>\n",
       "      <td>0.1640</td>\n",
       "      <td>0.446</td>\n",
       "      <td>103.019</td>\n",
       "      <td>247160</td>\n",
       "      <td>4</td>\n",
       "    </tr>\n",
       "    <tr>\n",
       "      <th>4</th>\n",
       "      <td>3DXncPQOG4VBw3QHh3S81</td>\n",
       "      <td>I'm the One</td>\n",
       "      <td>DJ Khaled</td>\n",
       "      <td>0.609</td>\n",
       "      <td>0.668</td>\n",
       "      <td>7</td>\n",
       "      <td>-4.284</td>\n",
       "      <td>1</td>\n",
       "      <td>0.0367</td>\n",
       "      <td>0.0552</td>\n",
       "      <td>0.000000</td>\n",
       "      <td>0.1670</td>\n",
       "      <td>0.811</td>\n",
       "      <td>80.924</td>\n",
       "      <td>288600</td>\n",
       "      <td>4</td>\n",
       "    </tr>\n",
       "  </tbody>\n",
       "</table>\n",
       "</div>"
      ],
      "text/plain": [
       "                      id                                name  \\\n",
       "0  7qiZfU4dY1lWllzX7mPBI                        Shape of You   \n",
       "1  5CtI0qwDJkDQGwXD1H1cL                   Despacito - Remix   \n",
       "2  4aWmUDTfIPGksMNLV2rQP  Despacito (Featuring Daddy Yankee)   \n",
       "3  6RUKPb4LETWmmr3iAEQkt            Something Just Like This   \n",
       "4  3DXncPQOG4VBw3QHh3S81                         I'm the One   \n",
       "\n",
       "            artists  danceability  energy  key  loudness  mode  speechiness  \\\n",
       "0        Ed Sheeran         0.825   0.652    1    -3.183     0       0.0802   \n",
       "1        Luis Fonsi         0.694   0.815    2    -4.328     1       0.1200   \n",
       "2        Luis Fonsi         0.660   0.786    2    -4.757     1       0.1700   \n",
       "3  The Chainsmokers         0.617   0.635   11    -6.769     0       0.0317   \n",
       "4         DJ Khaled         0.609   0.668    7    -4.284     1       0.0367   \n",
       "\n",
       "   acousticness  instrumentalness  liveness  valence    tempo  duration_ms  \\\n",
       "0        0.5810          0.000000    0.0931    0.931   95.977       233713   \n",
       "1        0.2290          0.000000    0.0924    0.813   88.931       228827   \n",
       "2        0.2090          0.000000    0.1120    0.846  177.833       228200   \n",
       "3        0.0498          0.000014    0.1640    0.446  103.019       247160   \n",
       "4        0.0552          0.000000    0.1670    0.811   80.924       288600   \n",
       "\n",
       "   time_signature  \n",
       "0               4  \n",
       "1               4  \n",
       "2               4  \n",
       "3               4  \n",
       "4               4  "
      ]
     },
     "execution_count": 16,
     "metadata": {},
     "output_type": "execute_result"
    }
   ],
   "source": [
    "# Spotify data set that contains top 100 songs\n",
    "\n",
    "df = pd.read_csv(\"/Users/elijahwoolford/Desktop/python /featuresdf_2.csv\",encoding=\"ISO-8859-1\")\n",
    "df.head()"
   ]
  },
  {
   "cell_type": "code",
   "execution_count": 5,
   "metadata": {},
   "outputs": [
    {
     "data": {
      "text/plain": [
       "danceability             0.696820\n",
       "energy                   0.660690\n",
       "key                      5.570000\n",
       "loudness                -5.652650\n",
       "mode                     0.580000\n",
       "speechiness              0.103969\n",
       "acousticness             0.166306\n",
       "instrumentalness         0.004796\n",
       "liveness                 0.150607\n",
       "valence                  0.517049\n",
       "tempo                  119.202460\n",
       "duration_ms         218387.280000\n",
       "time_signature           3.990000\n",
       "dtype: float64"
      ]
     },
     "execution_count": 5,
     "metadata": {},
     "output_type": "execute_result"
    }
   ],
   "source": [
    "df.mean()"
   ]
  },
  {
   "cell_type": "code",
   "execution_count": 6,
   "metadata": {},
   "outputs": [
    {
     "data": {
      "text/html": [
       "<div>\n",
       "<style scoped>\n",
       "    .dataframe tbody tr th:only-of-type {\n",
       "        vertical-align: middle;\n",
       "    }\n",
       "\n",
       "    .dataframe tbody tr th {\n",
       "        vertical-align: top;\n",
       "    }\n",
       "\n",
       "    .dataframe thead th {\n",
       "        text-align: right;\n",
       "    }\n",
       "</style>\n",
       "<table border=\"1\" class=\"dataframe\">\n",
       "  <thead>\n",
       "    <tr style=\"text-align: right;\">\n",
       "      <th></th>\n",
       "      <th>danceability</th>\n",
       "      <th>energy</th>\n",
       "      <th>key</th>\n",
       "      <th>loudness</th>\n",
       "      <th>mode</th>\n",
       "      <th>speechiness</th>\n",
       "      <th>acousticness</th>\n",
       "      <th>instrumentalness</th>\n",
       "      <th>liveness</th>\n",
       "      <th>valence</th>\n",
       "      <th>tempo</th>\n",
       "      <th>duration_ms</th>\n",
       "      <th>time_signature</th>\n",
       "    </tr>\n",
       "  </thead>\n",
       "  <tbody>\n",
       "    <tr>\n",
       "      <th>count</th>\n",
       "      <td>100.00000</td>\n",
       "      <td>100.000000</td>\n",
       "      <td>100.000000</td>\n",
       "      <td>100.000000</td>\n",
       "      <td>100.000000</td>\n",
       "      <td>100.000000</td>\n",
       "      <td>100.000000</td>\n",
       "      <td>100.000000</td>\n",
       "      <td>100.000000</td>\n",
       "      <td>100.000000</td>\n",
       "      <td>100.000000</td>\n",
       "      <td>100.00000</td>\n",
       "      <td>100.00</td>\n",
       "    </tr>\n",
       "    <tr>\n",
       "      <th>mean</th>\n",
       "      <td>0.69682</td>\n",
       "      <td>0.660690</td>\n",
       "      <td>5.570000</td>\n",
       "      <td>-5.652650</td>\n",
       "      <td>0.580000</td>\n",
       "      <td>0.103969</td>\n",
       "      <td>0.166306</td>\n",
       "      <td>0.004796</td>\n",
       "      <td>0.150607</td>\n",
       "      <td>0.517049</td>\n",
       "      <td>119.202460</td>\n",
       "      <td>218387.28000</td>\n",
       "      <td>3.99</td>\n",
       "    </tr>\n",
       "    <tr>\n",
       "      <th>std</th>\n",
       "      <td>0.12508</td>\n",
       "      <td>0.139207</td>\n",
       "      <td>3.731534</td>\n",
       "      <td>1.802067</td>\n",
       "      <td>0.496045</td>\n",
       "      <td>0.095115</td>\n",
       "      <td>0.166730</td>\n",
       "      <td>0.026038</td>\n",
       "      <td>0.079011</td>\n",
       "      <td>0.216436</td>\n",
       "      <td>27.952928</td>\n",
       "      <td>32851.07772</td>\n",
       "      <td>0.10</td>\n",
       "    </tr>\n",
       "    <tr>\n",
       "      <th>min</th>\n",
       "      <td>0.25800</td>\n",
       "      <td>0.346000</td>\n",
       "      <td>0.000000</td>\n",
       "      <td>-11.462000</td>\n",
       "      <td>0.000000</td>\n",
       "      <td>0.023200</td>\n",
       "      <td>0.000259</td>\n",
       "      <td>0.000000</td>\n",
       "      <td>0.042400</td>\n",
       "      <td>0.086200</td>\n",
       "      <td>75.016000</td>\n",
       "      <td>165387.00000</td>\n",
       "      <td>3.00</td>\n",
       "    </tr>\n",
       "    <tr>\n",
       "      <th>25%</th>\n",
       "      <td>0.63500</td>\n",
       "      <td>0.556500</td>\n",
       "      <td>2.000000</td>\n",
       "      <td>-6.594500</td>\n",
       "      <td>0.000000</td>\n",
       "      <td>0.043125</td>\n",
       "      <td>0.039100</td>\n",
       "      <td>0.000000</td>\n",
       "      <td>0.098275</td>\n",
       "      <td>0.375500</td>\n",
       "      <td>99.911750</td>\n",
       "      <td>198490.50000</td>\n",
       "      <td>4.00</td>\n",
       "    </tr>\n",
       "    <tr>\n",
       "      <th>50%</th>\n",
       "      <td>0.71400</td>\n",
       "      <td>0.667500</td>\n",
       "      <td>6.000000</td>\n",
       "      <td>-5.437000</td>\n",
       "      <td>1.000000</td>\n",
       "      <td>0.062650</td>\n",
       "      <td>0.106500</td>\n",
       "      <td>0.000000</td>\n",
       "      <td>0.125000</td>\n",
       "      <td>0.502500</td>\n",
       "      <td>112.468000</td>\n",
       "      <td>214106.00000</td>\n",
       "      <td>4.00</td>\n",
       "    </tr>\n",
       "    <tr>\n",
       "      <th>75%</th>\n",
       "      <td>0.77025</td>\n",
       "      <td>0.787500</td>\n",
       "      <td>9.000000</td>\n",
       "      <td>-4.326750</td>\n",
       "      <td>1.000000</td>\n",
       "      <td>0.123000</td>\n",
       "      <td>0.231250</td>\n",
       "      <td>0.000013</td>\n",
       "      <td>0.179250</td>\n",
       "      <td>0.679000</td>\n",
       "      <td>137.166000</td>\n",
       "      <td>230543.00000</td>\n",
       "      <td>4.00</td>\n",
       "    </tr>\n",
       "    <tr>\n",
       "      <th>max</th>\n",
       "      <td>0.92700</td>\n",
       "      <td>0.932000</td>\n",
       "      <td>11.000000</td>\n",
       "      <td>-2.396000</td>\n",
       "      <td>1.000000</td>\n",
       "      <td>0.431000</td>\n",
       "      <td>0.695000</td>\n",
       "      <td>0.210000</td>\n",
       "      <td>0.440000</td>\n",
       "      <td>0.966000</td>\n",
       "      <td>199.864000</td>\n",
       "      <td>343150.00000</td>\n",
       "      <td>4.00</td>\n",
       "    </tr>\n",
       "  </tbody>\n",
       "</table>\n",
       "</div>"
      ],
      "text/plain": [
       "       danceability      energy         key    loudness        mode  \\\n",
       "count     100.00000  100.000000  100.000000  100.000000  100.000000   \n",
       "mean        0.69682    0.660690    5.570000   -5.652650    0.580000   \n",
       "std         0.12508    0.139207    3.731534    1.802067    0.496045   \n",
       "min         0.25800    0.346000    0.000000  -11.462000    0.000000   \n",
       "25%         0.63500    0.556500    2.000000   -6.594500    0.000000   \n",
       "50%         0.71400    0.667500    6.000000   -5.437000    1.000000   \n",
       "75%         0.77025    0.787500    9.000000   -4.326750    1.000000   \n",
       "max         0.92700    0.932000   11.000000   -2.396000    1.000000   \n",
       "\n",
       "       speechiness  acousticness  instrumentalness    liveness     valence  \\\n",
       "count   100.000000    100.000000        100.000000  100.000000  100.000000   \n",
       "mean      0.103969      0.166306          0.004796    0.150607    0.517049   \n",
       "std       0.095115      0.166730          0.026038    0.079011    0.216436   \n",
       "min       0.023200      0.000259          0.000000    0.042400    0.086200   \n",
       "25%       0.043125      0.039100          0.000000    0.098275    0.375500   \n",
       "50%       0.062650      0.106500          0.000000    0.125000    0.502500   \n",
       "75%       0.123000      0.231250          0.000013    0.179250    0.679000   \n",
       "max       0.431000      0.695000          0.210000    0.440000    0.966000   \n",
       "\n",
       "            tempo   duration_ms  time_signature  \n",
       "count  100.000000     100.00000          100.00  \n",
       "mean   119.202460  218387.28000            3.99  \n",
       "std     27.952928   32851.07772            0.10  \n",
       "min     75.016000  165387.00000            3.00  \n",
       "25%     99.911750  198490.50000            4.00  \n",
       "50%    112.468000  214106.00000            4.00  \n",
       "75%    137.166000  230543.00000            4.00  \n",
       "max    199.864000  343150.00000            4.00  "
      ]
     },
     "execution_count": 6,
     "metadata": {},
     "output_type": "execute_result"
    }
   ],
   "source": [
    "df.describe()"
   ]
  },
  {
   "cell_type": "code",
   "execution_count": 7,
   "metadata": {},
   "outputs": [
    {
     "data": {
      "text/plain": [
       "Text(0.5,1,'Tempo Range')"
      ]
     },
     "execution_count": 7,
     "metadata": {},
     "output_type": "execute_result"
    },
    {
     "data": {
      "image/png": "[encoded data removed]",
      "text/plain": [
       "<matplotlib.figure.Figure at 0x1137afcf8>"
      ]
     },
     "metadata": {},
     "output_type": "display_data"
    }
   ],
   "source": [
    "plt.figure(figsize=(15,5))\n",
    "\n",
    "plt.subplot(1,2,1)\n",
    "x = sns.distplot(df[\"tempo\"])\n",
    "plt.title(\"Tempo Density\")\n",
    "\n",
    "plt.subplot(1,2,2) \n",
    "sns.boxplot(df[\"tempo\"])\n",
    "plt.title(\"Tempo Range\")"
   ]
  },
  {
   "cell_type": "markdown",
   "metadata": {},
   "source": [
    "These plots show that a good portion of the songs in the top 100 have tempos around 100-140bpm. "
   ]
  },
  {
   "cell_type": "code",
   "execution_count": 8,
   "metadata": {},
   "outputs": [
    {
     "data": {
      "image/png": "[encoded data removed]",
      "text/plain": [
       "<matplotlib.figure.Figure at 0x1137afbe0>"
      ]
     },
     "metadata": {},
     "output_type": "display_data"
    }
   ],
   "source": [
    "g = sns.lmplot(y=\"tempo\", x=\"danceability\", data=df, fit_reg=True)\n",
    "g.set_ylabels(\"Tempo\")\n",
    "g.set_xlabels(\"Danceability\")\n",
    "plt.title('Tempo vs Danceability')\n",
    "plt.show()"
   ]
  },
  {
   "cell_type": "markdown",
   "metadata": {},
   "source": [
    "The above plot shows that lower more moderate tempo songs tend to have higher danceability than higher tempo ones. "
   ]
  },
  {
   "cell_type": "code",
   "execution_count": 11,
   "metadata": {},
   "outputs": [
    {
     "data": {
      "image/png": "[encoded data removed]",
      "text/plain": [
       "<matplotlib.figure.Figure at 0x113e01198>"
      ]
     },
     "metadata": {},
     "output_type": "display_data"
    }
   ],
   "source": [
    "plt.figure(figsize=(12,5))\n",
    "\n",
    "plt.subplot(1,2,1)\n",
    "plt.hist(df[\"duration_ms\"])\n",
    "plt.xlabel(\"Duration(ms)\")\n",
    "plt.ylabel(\"# of songs\")\n",
    "plt.title(\"Duration\")\n",
    "\n",
    "plt.subplot(1,2,2)\n",
    "plt.hist(df[\"tempo\"])\n",
    "plt.xlabel(\"tempo\")\n",
    "plt.ylabel(\"# of songs\")\n",
    "plt.title(\"Tempo\")\n",
    "\n",
    "\n",
    "plt.show()"
   ]
  },
  {
   "cell_type": "code",
   "execution_count": 15,
   "metadata": {},
   "outputs": [
    {
     "data": {
      "image/png": "[encoded data removed]",
      "text/plain": [
       "<matplotlib.figure.Figure at 0x11556dc88>"
      ]
     },
     "metadata": {},
     "output_type": "display_data"
    }
   ],
   "source": [
    "plt.scatter(x=df[\"tempo\"], y=df[\"duration_ms\"])\n",
    "plt.xlabel(\"Tempo\")\n",
    "plt.ylabel(\"Duration (ms)\")\n",
    "plt.show()"
   ]
  },
  {
   "cell_type": "markdown",
   "metadata": {},
   "source": [
    "Interestingly, most of the songs in the top 100 have shorter durations"
   ]
  },
  {
   "cell_type": "markdown",
   "metadata": {},
   "source": [
    "# Research Proposal:\n",
    "\n",
    "**The question:** Can we sell more songs if we offer shorter and more moderate tempo songs?\n",
    "\n",
    "**Proposed Hypothesis:** I believe that putting out more short, moderate tempo songs will increase sales than the current listing of songs. \n",
    "\n",
    "**Method of testing:** Gather 1000 random songs that fit the creiteria for analysis. The control group would be the above data set of 100 songs since they are the most streamed and are what we're aiming for. The experimental group would be the random 1000 songs. We would market for three months the experiemental group to see if any difference in sales will occur.  A successful test would include an increase sales for our company. Potential issues may occur if we don't continue to update our experimental group. Songs are constantly being released weekly, so keeping an up to date listing is vital. Also, a key metric not revealed above is genre. The top 100 songs above are very diverse in the type of genres they offer so we have to be certain that we have a good mix of popular genres.  "
   ]
  },
  {
   "cell_type": "code",
   "execution_count": null,
   "metadata": {},
   "outputs": [],
   "source": []
  }
 ],
 "metadata": {
  "kernelspec": {
   "display_name": "Python 3",
   "language": "python",
   "name": "python3"
  },
  "language_info": {
   "codemirror_mode": {
    "name": "ipython",
    "version": 3
   },
   "file_extension": ".py",
   "mimetype": "text/x-python",
   "name": "python",
   "nbconvert_exporter": "python",
   "pygments_lexer": "ipython3",
   "version": "3.5.1"
  }
 },
 "nbformat": 4,
 "nbformat_minor": 2
}
