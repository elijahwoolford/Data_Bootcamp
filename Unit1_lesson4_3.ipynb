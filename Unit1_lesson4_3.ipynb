{
 "cells": [
  {
   "cell_type": "markdown",
   "metadata": {},
   "source": [
    "1.The months that the emails are tested should be in the same month. People are probably more likely to buy bathing suits in May than February. The emails should be tested in May.\n",
    "\n",
    "2.Testing in an anxiety clinic would naturally show more anxious people than the general population. If you want to test for anxiety rate, you should use the general population as a sample. \n",
    "\n",
    "3.The first week is usually not enough time to see a meaningful increase. Although this may be from the billboard, more time is required to make sure that the spike is from that.\n",
    "\n",
    "4.A new program usually takes some time to get going so a week isn't enough to see if the program will increase visits."
   ]
  }
 ],
 "metadata": {
  "kernelspec": {
   "display_name": "Python 3",
   "language": "python",
   "name": "python3"
  },
  "language_info": {
   "codemirror_mode": {
    "name": "ipython",
    "version": 3
   },
   "file_extension": ".py",
   "mimetype": "text/x-python",
   "name": "python",
   "nbconvert_exporter": "python",
   "pygments_lexer": "ipython3",
   "version": "3.5.1"
  }
 },
 "nbformat": 4,
 "nbformat_minor": 2
}
